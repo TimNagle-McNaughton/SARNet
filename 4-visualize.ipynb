{
 "cells": [
  {
   "cell_type": "markdown",
   "id": "97c97cac",
   "metadata": {},
   "source": [
    "This notebook contains a function that can be used to generate an overlay of tiles and their classifications over a film chip."
   ]
  },
  {
   "cell_type": "code",
   "execution_count": 12,
   "id": "c22996db",
   "metadata": {},
   "outputs": [],
   "source": [
    "import glob\n",
    "import json\n",
    "from PIL import Image\n",
    "import matplotlib.pyplot as plt\n",
    "import matplotlib.patches as patches"
   ]
  },
  {
   "cell_type": "code",
   "execution_count": 6,
   "id": "0a305c4b",
   "metadata": {},
   "outputs": [],
   "source": [
    "# output path \n",
    "source = # path to the output json"
   ]
  },
  {
   "cell_type": "code",
   "execution_count": 9,
   "id": "df0b3d45",
   "metadata": {},
   "outputs": [],
   "source": [
    "# define a function\n",
    "def visualize_tiles(image, source_path, save):\n",
    "    \n",
    "    # open the image\n",
    "    im = Image.open(source + image)\n",
    "\n",
    "    # set up figure\n",
    "    fig, ax = plt.subplots(nrows=1, ncols=1, figsize=(12, 8), constrained_layout=True)\n",
    "\n",
    "    # display the image\n",
    "    ax.imshow(im, cmap='Greys_r')\n",
    "    \n",
    "    # load the output json from the model\n",
    "    with open(source + 'tile_classification_results0.json', 'r') as data:\n",
    "         json_data = json.loads(data.read())\n",
    "    \n",
    "    # mask out the extra data\n",
    "    json_data = json_data[image[:-5]]\n",
    "    \n",
    "    # loop through each tile\n",
    "    for tile in json_data:\n",
    "            \n",
    "        # get the tile coordinates as pixel values\n",
    "        tile_x = tile['x']*200\n",
    "        tile_y = tile['y']*200\n",
    "\n",
    "        # get the line color\n",
    "        if tile['class_label'] == 0:\n",
    "            color = 'k'  \n",
    "        elif tile['class_label'] == 1:\n",
    "            color = 'orange'\n",
    "        elif tile['class_label'] == 2:\n",
    "            color = 'r'\n",
    "\n",
    "        # create a rectangle patch corresponding to the tile\n",
    "        rect = patches.Rectangle((tile_x, tile_y), 200, 200, linewidth=1, edgecolor=color, facecolor=color)\n",
    "        rect.set_alpha(0.2)\n",
    "\n",
    "        # add the patch to the Axes\n",
    "        ax.add_patch(rect)\n",
    "    \n",
    "    # turn of axes\n",
    "    plt.axis('off')\n",
    "    \n",
    "    # save visualization\n",
    "    if save == True:\n",
    "        plt.savefig(source + \"vis_\" + image[:-5] + \".png\", dpi=300, facecolor='white')\n",
    "    \n",
    "    plt.show()"
   ]
  }
 ],
 "metadata": {
  "kernelspec": {
   "display_name": "Python 3",
   "language": "python",
   "name": "python3"
  },
  "language_info": {
   "codemirror_mode": {
    "name": "ipython",
    "version": 3
   },
   "file_extension": ".py",
   "mimetype": "text/x-python",
   "name": "python",
   "nbconvert_exporter": "python",
   "pygments_lexer": "ipython3",
   "version": "3.9.5"
  }
 },
 "nbformat": 4,
 "nbformat_minor": 5
}
